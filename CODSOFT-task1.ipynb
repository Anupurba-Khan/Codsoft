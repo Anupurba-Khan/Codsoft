{
 "cells": [
  {
   "cell_type": "code",
   "execution_count": 1,
   "id": "f028a7ad",
   "metadata": {},
   "outputs": [],
   "source": [
    "from tkinter import *\n",
    "\n",
    "def add(entry, listbox):\n",
    "    new_item= entry.get()\n",
    "    if new_item:\n",
    "        listbox.insert(END, new_item)\n",
    "        entry.delete(0, END)\n",
    "        with open('tasks.txt', 'a') as tasks_list:\n",
    "            tasks_list.write(new_item + '\\n')\n",
    "\n",
    "def delete(listbox):\n",
    "    selected_index = listbox.curselection()\n",
    "    if selected_index:\n",
    "        listbox.delete(selected_index)\n",
    "        with open('task_list.txt', 'w') as tasks_list:\n",
    "            for i in range(listbox.size()):\n",
    "                tasks_list.write(listbox.get(i) + '\\n')\n",
    "\n",
    "root = Tk()\n",
    "root.title('To-Do List')\n",
    "root.geometry('400x500')\n",
    "root.resizable(0, 0)\n",
    "root.config(bg=\"#58F\")\n",
    "\n",
    "Label(root, text='To Do List', bg='#58F', font=(\"Times New Roman\", 25), wraplength=350).place(x=45, y=0)\n",
    "\n",
    "tasks = Listbox(root, selectbackground='Gold', bg='gold', font=('calibri', 15), height=15, width=30)\n",
    "\n",
    "scroller = Scrollbar(root, orient=VERTICAL, command=tasks.yview)\n",
    "scroller.place(x=370, y=80, height=235)\n",
    "\n",
    "tasks.config(yscrollcommand=scroller.set)\n",
    "\n",
    "tasks.place(x=45, y=50)\n",
    "\n",
    "add_btn = Button(root, text='ADD Item', bg='Azure', width=10, font=('calibri', 12),activebackground='PaleVioletRed',relief=\"raise\",\n",
    "                 command=lambda: add(new_item_entry, tasks))\n",
    "add_btn.place(x=70, y=350)\n",
    "\n",
    "delete_btn = Button(root, text='DELETE Item', bg='Azure', width=10, font=('calibri', 12),activebackground='PaleVioletRed',relief=\"raise\",\n",
    "                    command=lambda: delete(tasks))\n",
    "delete_btn.place(x=190, y=350)\n",
    "\n",
    "with open('TASK.txt', 'r') as tasks_list:\n",
    "    for task in tasks_list:\n",
    "        tasks.insert(END, task.strip())\n",
    "\n",
    "new_item_entry = Entry(root, width=37)\n",
    "new_item_entry.place(x=65, y=310)\n",
    "\n",
    "root.update()\n",
    "root.mainloop()\n"
   ]
  },
  {
   "cell_type": "code",
   "execution_count": null,
   "id": "de19b3f1",
   "metadata": {},
   "outputs": [],
   "source": []
  },
  {
   "cell_type": "code",
   "execution_count": null,
   "id": "a54f4cb1",
   "metadata": {},
   "outputs": [],
   "source": []
  },
  {
   "cell_type": "code",
   "execution_count": null,
   "id": "81c1a47e",
   "metadata": {},
   "outputs": [],
   "source": []
  }
 ],
 "metadata": {
  "kernelspec": {
   "display_name": "Python 3 (ipykernel)",
   "language": "python",
   "name": "python3"
  },
  "language_info": {
   "codemirror_mode": {
    "name": "ipython",
    "version": 3
   },
   "file_extension": ".py",
   "mimetype": "text/x-python",
   "name": "python",
   "nbconvert_exporter": "python",
   "pygments_lexer": "ipython3",
   "version": "3.10.9"
  }
 },
 "nbformat": 4,
 "nbformat_minor": 5
}

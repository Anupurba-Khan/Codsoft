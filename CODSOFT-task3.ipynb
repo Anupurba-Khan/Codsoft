{
 "cells": [
  {
   "cell_type": "code",
   "execution_count": 1,
   "id": "6879aa70",
   "metadata": {},
   "outputs": [],
   "source": [
    "import tkinter as tk\n",
    "import random\n",
    "import string\n",
    "\n",
    "root = tk.Tk()\n",
    "root.title(\"Password Generator\")\n",
    "root.geometry(\"350x300\")\n",
    "root.config(bg=\"light green\")\n",
    "\n",
    "def generate_password(length):\n",
    "    characters = string.ascii_letters + string.digits + string.punctuation\n",
    "    password = ''.join(random.choice(characters) for _ in range(length))\n",
    "    return password\n",
    "\n",
    "def generate_button_clicked():\n",
    "    try:\n",
    "        length_of_password = int(length_entry.get())\n",
    "        if length_of_password <= 0:\n",
    "            result_label.config(text=\"Password length must be a positive number.\")\n",
    "            generated_password_label.config(text=\"\")\n",
    "            return\n",
    "        \n",
    "        password = generate_password(length_of_password)\n",
    "        result_label.config(text=\"\")\n",
    "        generated_password_label.config(text=\"Generated Password: \" + password)\n",
    "    except ValueError:\n",
    "        result_label.config(text=\"Invalid input !\")\n",
    "        generated_password_label.config(text=\"\")\n",
    "\n",
    "\n",
    "new_label = tk.Label(root, text='Password Generator', bg='#58F', font=(\"Times New Roman\", 15), wraplength=350)\n",
    "label1 = tk.Label(root, text=\"Enter the User name:\", font=(\"calibri\", 10))\n",
    "User_name = tk.Entry(root, font=(\"calibri\", 10))\n",
    "label = tk.Label(root, text=\"Enter the password length:\", font=(\"calibri\", 10))\n",
    "length_entry = tk.Entry(root, font=(\"calibri\", 10))\n",
    "generate_button = tk.Button(root, text=\"Generate Password\", activebackground='#58F', font=(\"calibri\", 10, \"bold\"), command=generate_button_clicked)\n",
    "result_label = tk.Label(root, text=\"\", font=(\"calibri\", 12, \"bold\"))\n",
    "generated_password_label = tk.Label(root, text=\"\", font=(\"calibri\", 10, \"bold\"))\n",
    "\n",
    "\n",
    "new_label.pack(pady=10)\n",
    "label1.pack(anchor='w', padx=20)\n",
    "User_name.pack(pady=5, padx=30)\n",
    "label.pack(anchor='w', padx=20)\n",
    "length_entry.pack(pady=5, padx=30)\n",
    "result_label.pack(pady=5)\n",
    "generate_button.pack(pady=10)\n",
    "generated_password_label.pack(pady=5)\n",
    "\n",
    "root.mainloop()\n"
   ]
  },
  {
   "cell_type": "code",
   "execution_count": null,
   "id": "8fdc6e22",
   "metadata": {},
   "outputs": [],
   "source": []
  },
  {
   "cell_type": "code",
   "execution_count": null,
   "id": "a8651ecc",
   "metadata": {},
   "outputs": [],
   "source": []
  },
  {
   "cell_type": "code",
   "execution_count": null,
   "id": "9aef5659",
   "metadata": {},
   "outputs": [],
   "source": []
  }
 ],
 "metadata": {
  "kernelspec": {
   "display_name": "Python 3 (ipykernel)",
   "language": "python",
   "name": "python3"
  },
  "language_info": {
   "codemirror_mode": {
    "name": "ipython",
    "version": 3
   },
   "file_extension": ".py",
   "mimetype": "text/x-python",
   "name": "python",
   "nbconvert_exporter": "python",
   "pygments_lexer": "ipython3",
   "version": "3.10.9"
  }
 },
 "nbformat": 4,
 "nbformat_minor": 5
}
